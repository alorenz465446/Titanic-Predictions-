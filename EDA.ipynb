{
 "cells": [
  {
   "cell_type": "code",
   "execution_count": 2,
   "id": "e466619d",
   "metadata": {},
   "outputs": [],
   "source": [
    "# Explporatory Data Analysis for Titanic data \n",
    "\n",
    "# dependencies\n",
    "\n",
    "import numpy as np\n",
    "import pandas as pd\n",
    "import matplotlib.pyplot as plt\n",
    "import seaborn as sns\n",
    "# using  \"fivethirtyeight\" styling, which tries to replicate the styles from FiveThirtyEight.com\n",
    "plt.style.use('fivethirtyeight')\n",
    "\n",
    "import warnings\n",
    "warnings.filterwarnings('ignore')"
   ]
  },
  {
   "cell_type": "code",
   "execution_count": 3,
   "id": "30011578",
   "metadata": {},
   "outputs": [],
   "source": [
    "# read csv\n",
    "\n",
    "titanic_data = pd.read_csv('./Data/train.csv')"
   ]
  },
  {
   "cell_type": "code",
   "execution_count": 4,
   "id": "e90b6552",
   "metadata": {},
   "outputs": [
    {
     "data": {
      "text/html": [
       "<div>\n",
       "<style scoped>\n",
       "    .dataframe tbody tr th:only-of-type {\n",
       "        vertical-align: middle;\n",
       "    }\n",
       "\n",
       "    .dataframe tbody tr th {\n",
       "        vertical-align: top;\n",
       "    }\n",
       "\n",
       "    .dataframe thead th {\n",
       "        text-align: right;\n",
       "    }\n",
       "</style>\n",
       "<table border=\"1\" class=\"dataframe\">\n",
       "  <thead>\n",
       "    <tr style=\"text-align: right;\">\n",
       "      <th></th>\n",
       "      <th>PassengerId</th>\n",
       "      <th>Survived</th>\n",
       "      <th>Pclass</th>\n",
       "      <th>Name</th>\n",
       "      <th>Sex</th>\n",
       "      <th>Age</th>\n",
       "      <th>SibSp</th>\n",
       "      <th>Parch</th>\n",
       "      <th>Ticket</th>\n",
       "      <th>Fare</th>\n",
       "      <th>Cabin</th>\n",
       "      <th>Embarked</th>\n",
       "    </tr>\n",
       "  </thead>\n",
       "  <tbody>\n",
       "    <tr>\n",
       "      <th>0</th>\n",
       "      <td>1</td>\n",
       "      <td>0</td>\n",
       "      <td>3</td>\n",
       "      <td>Braund, Mr. Owen Harris</td>\n",
       "      <td>male</td>\n",
       "      <td>22.0</td>\n",
       "      <td>1</td>\n",
       "      <td>0</td>\n",
       "      <td>A/5 21171</td>\n",
       "      <td>7.2500</td>\n",
       "      <td>NaN</td>\n",
       "      <td>S</td>\n",
       "    </tr>\n",
       "    <tr>\n",
       "      <th>1</th>\n",
       "      <td>2</td>\n",
       "      <td>1</td>\n",
       "      <td>1</td>\n",
       "      <td>Cumings, Mrs. John Bradley (Florence Briggs Th...</td>\n",
       "      <td>female</td>\n",
       "      <td>38.0</td>\n",
       "      <td>1</td>\n",
       "      <td>0</td>\n",
       "      <td>PC 17599</td>\n",
       "      <td>71.2833</td>\n",
       "      <td>C85</td>\n",
       "      <td>C</td>\n",
       "    </tr>\n",
       "    <tr>\n",
       "      <th>2</th>\n",
       "      <td>3</td>\n",
       "      <td>1</td>\n",
       "      <td>3</td>\n",
       "      <td>Heikkinen, Miss. Laina</td>\n",
       "      <td>female</td>\n",
       "      <td>26.0</td>\n",
       "      <td>0</td>\n",
       "      <td>0</td>\n",
       "      <td>STON/O2. 3101282</td>\n",
       "      <td>7.9250</td>\n",
       "      <td>NaN</td>\n",
       "      <td>S</td>\n",
       "    </tr>\n",
       "    <tr>\n",
       "      <th>3</th>\n",
       "      <td>4</td>\n",
       "      <td>1</td>\n",
       "      <td>1</td>\n",
       "      <td>Futrelle, Mrs. Jacques Heath (Lily May Peel)</td>\n",
       "      <td>female</td>\n",
       "      <td>35.0</td>\n",
       "      <td>1</td>\n",
       "      <td>0</td>\n",
       "      <td>113803</td>\n",
       "      <td>53.1000</td>\n",
       "      <td>C123</td>\n",
       "      <td>S</td>\n",
       "    </tr>\n",
       "    <tr>\n",
       "      <th>4</th>\n",
       "      <td>5</td>\n",
       "      <td>0</td>\n",
       "      <td>3</td>\n",
       "      <td>Allen, Mr. William Henry</td>\n",
       "      <td>male</td>\n",
       "      <td>35.0</td>\n",
       "      <td>0</td>\n",
       "      <td>0</td>\n",
       "      <td>373450</td>\n",
       "      <td>8.0500</td>\n",
       "      <td>NaN</td>\n",
       "      <td>S</td>\n",
       "    </tr>\n",
       "    <tr>\n",
       "      <th>5</th>\n",
       "      <td>6</td>\n",
       "      <td>0</td>\n",
       "      <td>3</td>\n",
       "      <td>Moran, Mr. James</td>\n",
       "      <td>male</td>\n",
       "      <td>NaN</td>\n",
       "      <td>0</td>\n",
       "      <td>0</td>\n",
       "      <td>330877</td>\n",
       "      <td>8.4583</td>\n",
       "      <td>NaN</td>\n",
       "      <td>Q</td>\n",
       "    </tr>\n",
       "    <tr>\n",
       "      <th>6</th>\n",
       "      <td>7</td>\n",
       "      <td>0</td>\n",
       "      <td>1</td>\n",
       "      <td>McCarthy, Mr. Timothy J</td>\n",
       "      <td>male</td>\n",
       "      <td>54.0</td>\n",
       "      <td>0</td>\n",
       "      <td>0</td>\n",
       "      <td>17463</td>\n",
       "      <td>51.8625</td>\n",
       "      <td>E46</td>\n",
       "      <td>S</td>\n",
       "    </tr>\n",
       "    <tr>\n",
       "      <th>7</th>\n",
       "      <td>8</td>\n",
       "      <td>0</td>\n",
       "      <td>3</td>\n",
       "      <td>Palsson, Master. Gosta Leonard</td>\n",
       "      <td>male</td>\n",
       "      <td>2.0</td>\n",
       "      <td>3</td>\n",
       "      <td>1</td>\n",
       "      <td>349909</td>\n",
       "      <td>21.0750</td>\n",
       "      <td>NaN</td>\n",
       "      <td>S</td>\n",
       "    </tr>\n",
       "    <tr>\n",
       "      <th>8</th>\n",
       "      <td>9</td>\n",
       "      <td>1</td>\n",
       "      <td>3</td>\n",
       "      <td>Johnson, Mrs. Oscar W (Elisabeth Vilhelmina Berg)</td>\n",
       "      <td>female</td>\n",
       "      <td>27.0</td>\n",
       "      <td>0</td>\n",
       "      <td>2</td>\n",
       "      <td>347742</td>\n",
       "      <td>11.1333</td>\n",
       "      <td>NaN</td>\n",
       "      <td>S</td>\n",
       "    </tr>\n",
       "    <tr>\n",
       "      <th>9</th>\n",
       "      <td>10</td>\n",
       "      <td>1</td>\n",
       "      <td>2</td>\n",
       "      <td>Nasser, Mrs. Nicholas (Adele Achem)</td>\n",
       "      <td>female</td>\n",
       "      <td>14.0</td>\n",
       "      <td>1</td>\n",
       "      <td>0</td>\n",
       "      <td>237736</td>\n",
       "      <td>30.0708</td>\n",
       "      <td>NaN</td>\n",
       "      <td>C</td>\n",
       "    </tr>\n",
       "  </tbody>\n",
       "</table>\n",
       "</div>"
      ],
      "text/plain": [
       "   PassengerId  Survived  Pclass  \\\n",
       "0            1         0       3   \n",
       "1            2         1       1   \n",
       "2            3         1       3   \n",
       "3            4         1       1   \n",
       "4            5         0       3   \n",
       "5            6         0       3   \n",
       "6            7         0       1   \n",
       "7            8         0       3   \n",
       "8            9         1       3   \n",
       "9           10         1       2   \n",
       "\n",
       "                                                Name     Sex   Age  SibSp  \\\n",
       "0                            Braund, Mr. Owen Harris    male  22.0      1   \n",
       "1  Cumings, Mrs. John Bradley (Florence Briggs Th...  female  38.0      1   \n",
       "2                             Heikkinen, Miss. Laina  female  26.0      0   \n",
       "3       Futrelle, Mrs. Jacques Heath (Lily May Peel)  female  35.0      1   \n",
       "4                           Allen, Mr. William Henry    male  35.0      0   \n",
       "5                                   Moran, Mr. James    male   NaN      0   \n",
       "6                            McCarthy, Mr. Timothy J    male  54.0      0   \n",
       "7                     Palsson, Master. Gosta Leonard    male   2.0      3   \n",
       "8  Johnson, Mrs. Oscar W (Elisabeth Vilhelmina Berg)  female  27.0      0   \n",
       "9                Nasser, Mrs. Nicholas (Adele Achem)  female  14.0      1   \n",
       "\n",
       "   Parch            Ticket     Fare Cabin Embarked  \n",
       "0      0         A/5 21171   7.2500   NaN        S  \n",
       "1      0          PC 17599  71.2833   C85        C  \n",
       "2      0  STON/O2. 3101282   7.9250   NaN        S  \n",
       "3      0            113803  53.1000  C123        S  \n",
       "4      0            373450   8.0500   NaN        S  \n",
       "5      0            330877   8.4583   NaN        Q  \n",
       "6      0             17463  51.8625   E46        S  \n",
       "7      1            349909  21.0750   NaN        S  \n",
       "8      2            347742  11.1333   NaN        S  \n",
       "9      0            237736  30.0708   NaN        C  "
      ]
     },
     "execution_count": 4,
     "metadata": {},
     "output_type": "execute_result"
    }
   ],
   "source": [
    "titanic_data.head(10)"
   ]
  },
  {
   "cell_type": "code",
   "execution_count": 5,
   "id": "a368fddb",
   "metadata": {},
   "outputs": [
    {
     "data": {
      "text/plain": [
       "PassengerId      0\n",
       "Survived         0\n",
       "Pclass           0\n",
       "Name             0\n",
       "Sex              0\n",
       "Age            177\n",
       "SibSp            0\n",
       "Parch            0\n",
       "Ticket           0\n",
       "Fare             0\n",
       "Cabin          687\n",
       "Embarked         2\n",
       "dtype: int64"
      ]
     },
     "execution_count": 5,
     "metadata": {},
     "output_type": "execute_result"
    }
   ],
   "source": [
    "# check nulls\n",
    "\n",
    "titanic_data.isnull().sum()"
   ]
  },
  {
   "cell_type": "code",
   "execution_count": 6,
   "id": "627ea8ff",
   "metadata": {},
   "outputs": [
    {
     "data": {
      "text/plain": [
       "0    549\n",
       "1    342\n",
       "Name: Survived, dtype: int64"
      ]
     },
     "execution_count": 6,
     "metadata": {},
     "output_type": "execute_result"
    }
   ],
   "source": [
    "titanic_data['Survived'].value_counts()"
   ]
  },
  {
   "cell_type": "code",
   "execution_count": 7,
   "id": "a98b938b",
   "metadata": {
    "scrolled": false
   },
   "outputs": [
    {
     "data": {
      "image/png": "[encoded data removed]",
      "text/plain": [
       "<Figure size 432x288 with 1 Axes>"
      ]
     },
     "metadata": {},
     "output_type": "display_data"
    }
   ],
   "source": [
    "# How many survived \n",
    "\n",
    "# f,ax=plt.subplots(1,2,figsize=(18,8))\n",
    "# titanic_data['Survived'].value_counts().plot.pie(explode=[0,0.1],autopct='%1.1f%%',ax=ax[0],shadow=True)\n",
    "# ax[0].set_title('Survived')\n",
    "# ax[0].set_ylabel('')\n",
    "# sns.countplot('Survived',data=titanic_data,ax=ax[1])\n",
    "# ax[1].set_title('Survived')\n",
    "# plt.show()\n",
    "\n",
    "\n",
    "# donut chart\n",
    "\n",
    "labels = ['Did Not Survive', 'Survived']\n",
    "survivors = titanic_data['Survived'].value_counts()\n",
    " \n",
    "fig1, ax1 = plt.subplots()\n",
    "ax1.pie(x = survivors, labels=labels, autopct='%1.1f%%')\n",
    "\n",
    "#draw circle\n",
    "centre_circle = plt.Circle((0,0),0.70,fc='white')\n",
    "fig = plt.gcf()\n",
    "fig.gca().add_artist(centre_circle)\n",
    "\n",
    "# Equal aspect ratio ensures that pie is drawn as a circle\n",
    "ax1.axis('equal')  \n",
    "plt.tight_layout()\n",
    "plt.show()\n",
    "\n"
   ]
  },
  {
   "cell_type": "markdown",
   "id": "35f4eb58",
   "metadata": {},
   "source": [
    "Clearly not many passengers survived the sinking.\n",
    "\n",
    "Roughly 342 out of 891 passengers survived (38.4%).\n",
    "\n",
    "To get a better insight on the survival rate different features of the dataset were used. Including sex, port of embarcation, age, and more. \n",
    "\n",
    "Let me expolain the different types of features in this data."
   ]
  },
  {
   "cell_type": "code",
   "execution_count": 9,
   "id": "b3fe4341",
   "metadata": {},
   "outputs": [
    {
     "data": {
      "text/plain": [
       "Sex     Survived\n",
       "female  0            81\n",
       "        1           233\n",
       "male    0           468\n",
       "        1           109\n",
       "Name: Survived, dtype: int64"
      ]
     },
     "execution_count": 9,
     "metadata": {},
     "output_type": "execute_result"
    }
   ],
   "source": [
    "## Analysing The Features\n",
    "\n",
    "# Sex--> Categorical Feature\n",
    "\n",
    "titanic_data.groupby(['Sex','Survived'])['Survived'].count()\n"
   ]
  },
  {
   "cell_type": "code",
   "execution_count": 14,
   "id": "f6ec5125",
   "metadata": {},
   "outputs": [
    {
     "data": {
      "image/png": "[encoded data removed]",
      "text/plain": [
       "<Figure size 1296x576 with 2 Axes>"
      ]
     },
     "metadata": {},
     "output_type": "display_data"
    }
   ],
   "source": [
    "f,ax=plt.subplots(1,2,figsize=(18,8))\n",
    "titanic_data[['Sex','Survived']].groupby(['Sex']).mean().plot.bar(ax=ax[0])\n",
    "ax[0].set_title('Survived vs Sex')\n",
    "sns.countplot('Sex',hue='Survived',data=titanic_data,ax=ax[1])\n",
    "ax[1].set_title('Sex:Survived vs Dead')\n",
    "plt.show()"
   ]
  },
  {
   "cell_type": "markdown",
   "id": "7c98796d",
   "metadata": {},
   "source": [
    "The survival rates for a women on the ship is around 75% while that for men in around 18-19%.\n",
    "\n",
    "This looks to be a very important feature for modeling. But is it the best?? Lets check other features."
   ]
  },
  {
   "cell_type": "code",
   "execution_count": 17,
   "id": "8ca26c20",
   "metadata": {},
   "outputs": [
    {
     "data": {
      "text/html": [
       "<style type=\"text/css\">\n",
       "#T_3e53f_row0_col0, #T_3e53f_row1_col1, #T_3e53f_row1_col2 {\n",
       "  background-color: #ffff66;\n",
       "  color: #000000;\n",
       "}\n",
       "#T_3e53f_row0_col1 {\n",
       "  background-color: #cee666;\n",
       "  color: #000000;\n",
       "}\n",
       "#T_3e53f_row0_col2 {\n",
       "  background-color: #f4fa66;\n",
       "  color: #000000;\n",
       "}\n",
       "#T_3e53f_row1_col0 {\n",
       "  background-color: #f6fa66;\n",
       "  color: #000000;\n",
       "}\n",
       "#T_3e53f_row2_col0 {\n",
       "  background-color: #60b066;\n",
       "  color: #f1f1f1;\n",
       "}\n",
       "#T_3e53f_row2_col1 {\n",
       "  background-color: #dfef66;\n",
       "  color: #000000;\n",
       "}\n",
       "#T_3e53f_row2_col2 {\n",
       "  background-color: #90c866;\n",
       "  color: #000000;\n",
       "}\n",
       "#T_3e53f_row3_col0, #T_3e53f_row3_col1, #T_3e53f_row3_col2 {\n",
       "  background-color: #008066;\n",
       "  color: #f1f1f1;\n",
       "}\n",
       "</style>\n",
       "<table id=\"T_3e53f_\">\n",
       "  <thead>\n",
       "    <tr>\n",
       "      <th class=\"index_name level0\" >Survived</th>\n",
       "      <th class=\"col_heading level0 col0\" >0</th>\n",
       "      <th class=\"col_heading level0 col1\" >1</th>\n",
       "      <th class=\"col_heading level0 col2\" >All</th>\n",
       "    </tr>\n",
       "    <tr>\n",
       "      <th class=\"index_name level0\" >Pclass</th>\n",
       "      <th class=\"blank col0\" >&nbsp;</th>\n",
       "      <th class=\"blank col1\" >&nbsp;</th>\n",
       "      <th class=\"blank col2\" >&nbsp;</th>\n",
       "    </tr>\n",
       "  </thead>\n",
       "  <tbody>\n",
       "    <tr>\n",
       "      <th id=\"T_3e53f_level0_row0\" class=\"row_heading level0 row0\" >1</th>\n",
       "      <td id=\"T_3e53f_row0_col0\" class=\"data row0 col0\" >80</td>\n",
       "      <td id=\"T_3e53f_row0_col1\" class=\"data row0 col1\" >136</td>\n",
       "      <td id=\"T_3e53f_row0_col2\" class=\"data row0 col2\" >216</td>\n",
       "    </tr>\n",
       "    <tr>\n",
       "      <th id=\"T_3e53f_level0_row1\" class=\"row_heading level0 row1\" >2</th>\n",
       "      <td id=\"T_3e53f_row1_col0\" class=\"data row1 col0\" >97</td>\n",
       "      <td id=\"T_3e53f_row1_col1\" class=\"data row1 col1\" >87</td>\n",
       "      <td id=\"T_3e53f_row1_col2\" class=\"data row1 col2\" >184</td>\n",
       "    </tr>\n",
       "    <tr>\n",
       "      <th id=\"T_3e53f_level0_row2\" class=\"row_heading level0 row2\" >3</th>\n",
       "      <td id=\"T_3e53f_row2_col0\" class=\"data row2 col0\" >372</td>\n",
       "      <td id=\"T_3e53f_row2_col1\" class=\"data row2 col1\" >119</td>\n",
       "      <td id=\"T_3e53f_row2_col2\" class=\"data row2 col2\" >491</td>\n",
       "    </tr>\n",
       "    <tr>\n",
       "      <th id=\"T_3e53f_level0_row3\" class=\"row_heading level0 row3\" >All</th>\n",
       "      <td id=\"T_3e53f_row3_col0\" class=\"data row3 col0\" >549</td>\n",
       "      <td id=\"T_3e53f_row3_col1\" class=\"data row3 col1\" >342</td>\n",
       "      <td id=\"T_3e53f_row3_col2\" class=\"data row3 col2\" >891</td>\n",
       "    </tr>\n",
       "  </tbody>\n",
       "</table>\n"
      ],
      "text/plain": [
       "<pandas.io.formats.style.Styler at 0x203c0ee7b48>"
      ]
     },
     "execution_count": 17,
     "metadata": {},
     "output_type": "execute_result"
    }
   ],
   "source": [
    "# Pclass --> Ordinal Feature\n",
    "\n",
    "pd.crosstab(titanic_data.Pclass,titanic_data.Survived,margins=True).style.background_gradient(cmap='summer_r')"
   ]
  },
  {
   "cell_type": "code",
   "execution_count": 21,
   "id": "103bc6ad",
   "metadata": {},
   "outputs": [
    {
     "data": {
      "image/png": "[encoded data removed]",
      "text/plain": [
       "<Figure size 1296x576 with 2 Axes>"
      ]
     },
     "metadata": {},
     "output_type": "display_data"
    }
   ],
   "source": [
    "f,ax=plt.subplots(1,2,figsize=(18,8))\n",
    "titanic_data['Pclass'].value_counts().plot.bar(color=['#CD7F32','#FFDF00','#D3D3D3'],ax=ax[0])\n",
    "ax[0].set_title('Number Of Passengers By Pclass')\n",
    "ax[0].set_ylabel('Count')\n",
    "sns.countplot('Pclass',hue='Survived',data=titanic_data,ax=ax[1])\n",
    "ax[1].set_title('Pclass:Survived vs Dead')\n",
    "plt.show()"
   ]
  },
  {
   "cell_type": "markdown",
   "id": "237d8d67",
   "metadata": {},
   "source": [
    "we can clearly see that Passenegers Of Pclass 1 were given a very high priority while rescue. Even though the the number of Passengers in Pclass 3 were a lot higher, still the number of survival from them is very low, somewhere around 25%.\n",
    "\n",
    "For Pclass 1 %survived is around 63% while for Pclass2 is around 48%. So money and status matters. Such a materialistic world.\n",
    "\n",
    "Lets Dive in little bit more and check for other interesting observations. Lets check survival rate with Sex and Pclass Together."
   ]
  },
  {
   "cell_type": "code",
   "execution_count": 23,
   "id": "0cdadc18",
   "metadata": {},
   "outputs": [
    {
     "data": {
      "text/html": [
       "<style type=\"text/css\">\n",
       "#T_a4331_row0_col0, #T_a4331_row0_col1, #T_a4331_row0_col3, #T_a4331_row3_col2 {\n",
       "  background-color: #ffff66;\n",
       "  color: #000000;\n",
       "}\n",
       "#T_a4331_row0_col2, #T_a4331_row1_col2 {\n",
       "  background-color: #f1f866;\n",
       "  color: #000000;\n",
       "}\n",
       "#T_a4331_row1_col0 {\n",
       "  background-color: #96cb66;\n",
       "  color: #000000;\n",
       "}\n",
       "#T_a4331_row1_col1 {\n",
       "  background-color: #a3d166;\n",
       "  color: #000000;\n",
       "}\n",
       "#T_a4331_row1_col3 {\n",
       "  background-color: #cfe766;\n",
       "  color: #000000;\n",
       "}\n",
       "#T_a4331_row2_col0 {\n",
       "  background-color: #a7d366;\n",
       "  color: #000000;\n",
       "}\n",
       "#T_a4331_row2_col1, #T_a4331_row2_col3 {\n",
       "  background-color: #85c266;\n",
       "  color: #000000;\n",
       "}\n",
       "#T_a4331_row2_col2 {\n",
       "  background-color: #6eb666;\n",
       "  color: #f1f1f1;\n",
       "}\n",
       "#T_a4331_row3_col0 {\n",
       "  background-color: #cde666;\n",
       "  color: #000000;\n",
       "}\n",
       "#T_a4331_row3_col1 {\n",
       "  background-color: #f0f866;\n",
       "  color: #000000;\n",
       "}\n",
       "#T_a4331_row3_col3 {\n",
       "  background-color: #f7fb66;\n",
       "  color: #000000;\n",
       "}\n",
       "#T_a4331_row4_col0, #T_a4331_row4_col1, #T_a4331_row4_col2, #T_a4331_row4_col3 {\n",
       "  background-color: #008066;\n",
       "  color: #f1f1f1;\n",
       "}\n",
       "</style>\n",
       "<table id=\"T_a4331_\">\n",
       "  <thead>\n",
       "    <tr>\n",
       "      <th class=\"blank\" >&nbsp;</th>\n",
       "      <th class=\"index_name level0\" >Pclass</th>\n",
       "      <th class=\"col_heading level0 col0\" >1</th>\n",
       "      <th class=\"col_heading level0 col1\" >2</th>\n",
       "      <th class=\"col_heading level0 col2\" >3</th>\n",
       "      <th class=\"col_heading level0 col3\" >All</th>\n",
       "    </tr>\n",
       "    <tr>\n",
       "      <th class=\"index_name level0\" >Sex</th>\n",
       "      <th class=\"index_name level1\" >Survived</th>\n",
       "      <th class=\"blank col0\" >&nbsp;</th>\n",
       "      <th class=\"blank col1\" >&nbsp;</th>\n",
       "      <th class=\"blank col2\" >&nbsp;</th>\n",
       "      <th class=\"blank col3\" >&nbsp;</th>\n",
       "    </tr>\n",
       "  </thead>\n",
       "  <tbody>\n",
       "    <tr>\n",
       "      <th id=\"T_a4331_level0_row0\" class=\"row_heading level0 row0\" rowspan=\"2\">female</th>\n",
       "      <th id=\"T_a4331_level1_row0\" class=\"row_heading level1 row0\" >0</th>\n",
       "      <td id=\"T_a4331_row0_col0\" class=\"data row0 col0\" >3</td>\n",
       "      <td id=\"T_a4331_row0_col1\" class=\"data row0 col1\" >6</td>\n",
       "      <td id=\"T_a4331_row0_col2\" class=\"data row0 col2\" >72</td>\n",
       "      <td id=\"T_a4331_row0_col3\" class=\"data row0 col3\" >81</td>\n",
       "    </tr>\n",
       "    <tr>\n",
       "      <th id=\"T_a4331_level1_row1\" class=\"row_heading level1 row1\" >1</th>\n",
       "      <td id=\"T_a4331_row1_col0\" class=\"data row1 col0\" >91</td>\n",
       "      <td id=\"T_a4331_row1_col1\" class=\"data row1 col1\" >70</td>\n",
       "      <td id=\"T_a4331_row1_col2\" class=\"data row1 col2\" >72</td>\n",
       "      <td id=\"T_a4331_row1_col3\" class=\"data row1 col3\" >233</td>\n",
       "    </tr>\n",
       "    <tr>\n",
       "      <th id=\"T_a4331_level0_row2\" class=\"row_heading level0 row2\" rowspan=\"2\">male</th>\n",
       "      <th id=\"T_a4331_level1_row2\" class=\"row_heading level1 row2\" >0</th>\n",
       "      <td id=\"T_a4331_row2_col0\" class=\"data row2 col0\" >77</td>\n",
       "      <td id=\"T_a4331_row2_col1\" class=\"data row2 col1\" >91</td>\n",
       "      <td id=\"T_a4331_row2_col2\" class=\"data row2 col2\" >300</td>\n",
       "      <td id=\"T_a4331_row2_col3\" class=\"data row2 col3\" >468</td>\n",
       "    </tr>\n",
       "    <tr>\n",
       "      <th id=\"T_a4331_level1_row3\" class=\"row_heading level1 row3\" >1</th>\n",
       "      <td id=\"T_a4331_row3_col0\" class=\"data row3 col0\" >45</td>\n",
       "      <td id=\"T_a4331_row3_col1\" class=\"data row3 col1\" >17</td>\n",
       "      <td id=\"T_a4331_row3_col2\" class=\"data row3 col2\" >47</td>\n",
       "      <td id=\"T_a4331_row3_col3\" class=\"data row3 col3\" >109</td>\n",
       "    </tr>\n",
       "    <tr>\n",
       "      <th id=\"T_a4331_level0_row4\" class=\"row_heading level0 row4\" >All</th>\n",
       "      <th id=\"T_a4331_level1_row4\" class=\"row_heading level1 row4\" ></th>\n",
       "      <td id=\"T_a4331_row4_col0\" class=\"data row4 col0\" >216</td>\n",
       "      <td id=\"T_a4331_row4_col1\" class=\"data row4 col1\" >184</td>\n",
       "      <td id=\"T_a4331_row4_col2\" class=\"data row4 col2\" >491</td>\n",
       "      <td id=\"T_a4331_row4_col3\" class=\"data row4 col3\" >891</td>\n",
       "    </tr>\n",
       "  </tbody>\n",
       "</table>\n"
      ],
      "text/plain": [
       "<pandas.io.formats.style.Styler at 0x203c0d30e08>"
      ]
     },
     "execution_count": 23,
     "metadata": {},
     "output_type": "execute_result"
    }
   ],
   "source": [
    "pd.crosstab([titanic_data.Sex,titanic_data.Survived],titanic_data.Pclass,margins=True).style.background_gradient(cmap='summer_r')"
   ]
  },
  {
   "cell_type": "code",
   "execution_count": 24,
   "id": "ac1553f9",
   "metadata": {},
   "outputs": [
    {
     "data": {
      "image/png": "[encoded data removed]",
      "text/plain": [
       "<Figure size 458.9x360 with 1 Axes>"
      ]
     },
     "metadata": {},
     "output_type": "display_data"
    }
   ],
   "source": [
    "sns.factorplot('Pclass','Survived',hue='Sex',data=titanic_data)\n",
    "plt.show()"
   ]
  },
  {
   "cell_type": "markdown",
   "id": "e1e195af",
   "metadata": {},
   "source": [
    "We use FactorPlot in this case, because they make the seperation of categorical values easy.\n",
    "\n",
    "Looking at the CrossTab and the FactorPlot, we can easily infer that survival for Women from Pclass1 is about 95-96%, as only 3 out of 94 Women from Pclass1 died.\n",
    "\n",
    "It is evident that irrespective of Pclass, Women were given first priority while rescue. Even Men from Pclass1 have a very low survival rate.\n",
    "\n",
    "Looks like Pclass is also an important feature. Lets analyse other features."
   ]
  }
 ],
 "metadata": {
  "kernelspec": {
   "display_name": "mlenv",
   "language": "python",
   "name": "mlenv"
  },
  "language_info": {
   "codemirror_mode": {
    "name": "ipython",
    "version": 3
   },
   "file_extension": ".py",
   "mimetype": "text/x-python",
   "name": "python",
   "nbconvert_exporter": "python",
   "pygments_lexer": "ipython3",
   "version": "3.7.13"
  }
 },
 "nbformat": 4,
 "nbformat_minor": 5
}
